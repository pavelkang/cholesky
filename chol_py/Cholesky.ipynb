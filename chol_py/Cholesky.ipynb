{
 "cells": [
  {
   "cell_type": "markdown",
   "metadata": {},
   "source": [
    "# Fast Poisson Equation Solver\n",
    "\n",
    "## Introduction\n",
    "\n",
    "todo\n",
    "\n",
    "## Our approach\n",
    "- Find better vertex orderings of the Poisson matrix so that the Cholesky factorization can be solved fast\n",
    "\n",
    "## Hypothesis\n",
    "- We start with simple, greedy orderings. For example, we order vertice by their degrees, by their x-coordinates, or simply randomly."
   ]
  },
  {
   "cell_type": "markdown",
   "metadata": {},
   "source": [
    "We first start with a toy implementation of the column-oriented Cholesky factorization:"
   ]
  },
  {
   "cell_type": "code",
   "execution_count": 1,
   "metadata": {
    "collapsed": false
   },
   "outputs": [
    {
     "name": "stdout",
     "output_type": "stream",
     "text": [
      "* original matrix is\n",
      "[[  4  12 -16]\n",
      " [ 12  37 -43]\n",
      " [-16 -43  98]]\n",
      "* factorization is\n",
      "[[ 2  6 -8]\n",
      " [ 6  1  5]\n",
      " [-8  5  3]]\n"
     ]
    }
   ],
   "source": [
    "import numpy as np\n",
    "from math import sqrt\n",
    "\n",
    "def cholesky(m):\n",
    "    rows, cols = m.shape[0], m.shape[1]\n",
    "    if (rows == 1):\n",
    "        m[(0, 0)] = sqrt(m[(0, 0)])\n",
    "        return m\n",
    "    m[(0, 0)] = sqrt(m[(0, 0)])\n",
    "    r = np.vectorize(lambda x: x/m[(0, 0)])(m[0, 1:])\n",
    "    for i in xrange(1, rows):\n",
    "        m[(0, i)] /= m[(0, 0)]\n",
    "        m[(i, 0)] /= m[(0, 0)]\n",
    "    to_subtract = r.T*r\n",
    "    sub = m[1:rows, 1:cols]\n",
    "    sub -= to_subtract\n",
    "    m[np.ix_([1, rows-1], [1, cols-1])] = cholesky(sub)\n",
    "    return m\n",
    "\n",
    "# test input\n",
    "m = np.matrix([[4, 12, -16], [12, 37, -43], [-16, -43, 98]])\n",
    "print \"* original matrix is\\n\", m\n",
    "mm = cholesky(m)\n",
    "print \"* factorization is\\n\", mm"
   ]
  },
  {
   "cell_type": "markdown",
   "metadata": {},
   "source": [
    "We want to support reordering of vertices so that we can experiment with different ordering of vertices to find the best ordering to reduce fills:"
   ]
  },
  {
   "cell_type": "code",
   "execution_count": 2,
   "metadata": {
    "collapsed": true
   },
   "outputs": [],
   "source": [
    "# m: a matrix-representation of the pattern grpah\n",
    "# f: a reordering function\n",
    "def reorder(m, f):\n",
    "    rows, cols = m.shape\n",
    "    n = [[0]*cols for i in xrange(rows)]\n",
    "    for i in xrange(rows):\n",
    "        for j in xrange(cols):\n",
    "            n[f(i)][f(j)] = m[(i, j)]\n",
    "    return np.matrix(n)"
   ]
  },
  {
   "cell_type": "markdown",
   "metadata": {},
   "source": [
    "This ```reorder``` function applies the reordering mapping function to m, and return the reordered matrix. And the ```reorder_func``` is the reordering mapping function"
   ]
  },
  {
   "cell_type": "code",
   "execution_count": 3,
   "metadata": {
    "collapsed": true
   },
   "outputs": [],
   "source": [
    "reorder_dict = {0:2, 1:0, 2:1}\n",
    "def reorder_func(i):\n",
    "    return reorder_dict[i]"
   ]
  },
  {
   "cell_type": "markdown",
   "metadata": {},
   "source": [
    "Then, we can take a look at the cholesky factorization on the reordered matrix:"
   ]
  },
  {
   "cell_type": "code",
   "execution_count": 4,
   "metadata": {
    "collapsed": false
   },
   "outputs": [
    {
     "name": "stdout",
     "output_type": "stream",
     "text": [
      "reordered cholesky is\n",
      "[[ 6 -8  2]\n",
      " [-8  5  0]\n",
      " [ 2  0  0]]\n"
     ]
    }
   ],
   "source": [
    "    m = np.matrix([[4, 12, -16], [12, 37, -43], [-16, -43, 98]])\n",
    "    m_reordered = reorder(m, reorder_func)\n",
    "    m_reordered_fac = cholesky(m_reordered)\n",
    "    print \"reordered cholesky is\\n\", m_reordered_fac\n"
   ]
  },
  {
   "cell_type": "markdown",
   "metadata": {},
   "source": [
    "Notice that this cholesky factorization is sparser than the previous one. Our goal is to determine which kind of reordering will lead to sparser cholesky factors."
   ]
  },
  {
   "cell_type": "code",
   "execution_count": 5,
   "metadata": {
    "collapsed": false
   },
   "outputs": [
    {
     "name": "stdout",
     "output_type": "stream",
     "text": [
      "sparsity is 1.000000, 0.666667\n"
     ]
    }
   ],
   "source": [
    "def calc_sparsity(m):\n",
    "    rows, cols = m.shape\n",
    "    nonzeros = 0\n",
    "    for i in xrange(rows):\n",
    "        for j in xrange(cols):\n",
    "            if (m[(i, j)] != 0):\n",
    "                nonzeros += 1\n",
    "    return float(nonzeros) / (rows * cols)\n",
    "print \"sparsity is %f, %f\" %(calc_sparsity(mm), calc_sparsity(m_reordered_fac))"
   ]
  }
 ],
 "metadata": {
  "kernelspec": {
   "display_name": "Python 2",
   "language": "python",
   "name": "python2"
  },
  "language_info": {
   "codemirror_mode": {
    "name": "ipython",
    "version": 2
   },
   "file_extension": ".py",
   "mimetype": "text/x-python",
   "name": "python",
   "nbconvert_exporter": "python",
   "pygments_lexer": "ipython2",
   "version": "2.7.11"
  }
 },
 "nbformat": 4,
 "nbformat_minor": 0
}
